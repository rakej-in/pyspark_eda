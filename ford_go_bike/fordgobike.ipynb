{
  "cells": [
    {
      "cell_type": "code",
      "source": [
        "!pip install pyspark py4j"
      ],
      "metadata": {
        "colab": {
          "base_uri": "https://localhost:8080/"
        },
        "id": "IwosK8yzwJlH",
        "outputId": "286aae35-c6ad-4127-9752-c1636a1a078d"
      },
      "execution_count": null,
      "outputs": [
        {
          "output_type": "stream",
          "name": "stdout",
          "text": [
            "Requirement already satisfied: pyspark in /usr/local/lib/python3.10/dist-packages (3.5.0)\n",
            "Requirement already satisfied: py4j in /usr/local/lib/python3.10/dist-packages (0.10.9.7)\n"
          ]
        }
      ]
    },
    {
      "cell_type": "code",
      "source": [
        "!pip install findspark"
      ],
      "metadata": {
        "colab": {
          "base_uri": "https://localhost:8080/"
        },
        "id": "xHXcq4ALwOUj",
        "outputId": "d900e615-01ac-4811-9fe4-4bbd55140c9a"
      },
      "execution_count": null,
      "outputs": [
        {
          "output_type": "stream",
          "name": "stdout",
          "text": [
            "Collecting findspark\n",
            "  Downloading findspark-2.0.1-py2.py3-none-any.whl (4.4 kB)\n",
            "Installing collected packages: findspark\n",
            "Successfully installed findspark-2.0.1\n"
          ]
        }
      ]
    },
    {
      "cell_type": "code",
      "source": [
        "import findspark\n",
        "findspark.init()"
      ],
      "metadata": {
        "id": "rhQ2O33wwRmq"
      },
      "execution_count": null,
      "outputs": []
    },
    {
      "cell_type": "code",
      "source": [
        "import pandas as pd\n",
        "import numpy as np\n",
        "from datetime import date, timedelta, datetime\n",
        "import time\n",
        "\n",
        "import pyspark\n",
        "from pyspark.sql import SparkSession, SQLContext\n",
        "from pyspark.sql.functions import *\n",
        "from pyspark.sql.types import *"
      ],
      "metadata": {
        "id": "NvNCdHn_wTzk"
      },
      "execution_count": null,
      "outputs": []
    },
    {
      "cell_type": "code",
      "source": [
        "spark = SparkSession.builder.master('local[*]').appName('FordGoBike').getOrCreate()"
      ],
      "metadata": {
        "id": "QIEf99YywWLm"
      },
      "execution_count": null,
      "outputs": []
    },
    {
      "cell_type": "code",
      "execution_count": null,
      "metadata": {
        "application/vnd.databricks.v1+cell": {
          "cellMetadata": {
            "byteLimit": 2048000,
            "rowLimit": 10000
          },
          "inputWidgets": {},
          "nuid": "655ba5af-787c-4a28-9b4a-1023391b734d",
          "showTitle": false,
          "title": ""
        },
        "colab": {
          "base_uri": "https://localhost:8080/",
          "height": 222
        },
        "id": "MTJuyPBfvfDD",
        "outputId": "77e193f3-8869-43bc-ce6b-2555eb285b63"
      },
      "outputs": [
        {
          "output_type": "execute_result",
          "data": {
            "text/plain": [
              "<pyspark.sql.session.SparkSession at 0x7a72aedd0c10>"
            ],
            "text/html": [
              "\n",
              "            <div>\n",
              "                <p><b>SparkSession - in-memory</b></p>\n",
              "                \n",
              "        <div>\n",
              "            <p><b>SparkContext</b></p>\n",
              "\n",
              "            <p><a href=\"http://43b62e5a62de:4040\">Spark UI</a></p>\n",
              "\n",
              "            <dl>\n",
              "              <dt>Version</dt>\n",
              "                <dd><code>v3.5.0</code></dd>\n",
              "              <dt>Master</dt>\n",
              "                <dd><code>local[*]</code></dd>\n",
              "              <dt>AppName</dt>\n",
              "                <dd><code>FordGoBike</code></dd>\n",
              "            </dl>\n",
              "        </div>\n",
              "        \n",
              "            </div>\n",
              "        "
            ]
          },
          "metadata": {},
          "execution_count": 7
        }
      ],
      "source": [
        "spark"
      ]
    },
    {
      "cell_type": "code",
      "source": [
        "from google.colab import drive\n",
        "drive.mount('/content/drive')"
      ],
      "metadata": {
        "colab": {
          "base_uri": "https://localhost:8080/"
        },
        "id": "aw55rKbkwqfD",
        "outputId": "ad5b701c-6945-4149-de64-7256171ffebb"
      },
      "execution_count": null,
      "outputs": [
        {
          "output_type": "stream",
          "name": "stdout",
          "text": [
            "Mounted at /content/drive\n"
          ]
        }
      ]
    },
    {
      "cell_type": "code",
      "source": [
        "bike_data = spark.read.format('csv').option('header', 'true').load('/content/drive/MyDrive/bike_data.csv')"
      ],
      "metadata": {
        "id": "nMQhv7R5waFB"
      },
      "execution_count": null,
      "outputs": []
    },
    {
      "cell_type": "markdown",
      "metadata": {
        "application/vnd.databricks.v1+cell": {
          "cellMetadata": {
            "byteLimit": 2048000,
            "rowLimit": 10000
          },
          "inputWidgets": {},
          "nuid": "9ef0da6d-ca22-4654-bd33-1b693d74c016",
          "showTitle": false,
          "title": ""
        },
        "id": "N5NI6IRAvfDv"
      },
      "source": [
        "WEEK ONE"
      ]
    },
    {
      "cell_type": "code",
      "execution_count": null,
      "metadata": {
        "application/vnd.databricks.v1+cell": {
          "cellMetadata": {
            "byteLimit": 2048000,
            "rowLimit": 10000
          },
          "inputWidgets": {},
          "nuid": "1cc51151-68a0-4f34-9e62-f18794aa27c3",
          "showTitle": false,
          "title": ""
        },
        "colab": {
          "base_uri": "https://localhost:8080/"
        },
        "id": "QFNVzGPxvfDx",
        "outputId": "0d9d5a8e-7028-4548-b573-be46386a2155"
      },
      "outputs": [
        {
          "output_type": "stream",
          "name": "stdout",
          "text": [
            "+-------+-----------------+\n",
            "|bike_id|   total_distance|\n",
            "+-------+-----------------+\n",
            "|     68|743.3694820484664|\n",
            "|   2178| 721.182243221356|\n",
            "|    256| 671.916097882985|\n",
            "|    235| 670.162003168386|\n",
            "|   2049| 656.828101766426|\n",
            "|    441|656.6422746252357|\n",
            "|   2226|647.8232304063756|\n",
            "|    796|646.8677297229267|\n",
            "|    190| 640.294181741224|\n",
            "|   2365|639.4126742864064|\n",
            "+-------+-----------------+\n",
            "\n"
          ]
        }
      ],
      "source": [
        "#calculate the total distance for each bike and list the top 10 | task 1\n",
        "from pyspark.sql import SparkSession\n",
        "from pyspark.sql.functions import count, when, col, sum\n",
        "\n",
        "\n",
        "total_distance_per_bike = bike_data.groupBy(\"bike_id\").agg(sum(\"distance_km\").alias(\"total_distance\"))\n",
        "\n",
        "top_10_bikes = total_distance_per_bike.orderBy(\"total_distance\", ascending=False).limit(10)\n",
        "\n",
        "top_10_bikes.show()"
      ]
    },
    {
      "cell_type": "code",
      "source": [
        "top_10_bikes.write.csv('top_10_bikes.csv')"
      ],
      "metadata": {
        "id": "oJS49xIGy5zx"
      },
      "execution_count": null,
      "outputs": []
    },
    {
      "cell_type": "code",
      "execution_count": null,
      "metadata": {
        "application/vnd.databricks.v1+cell": {
          "cellMetadata": {
            "byteLimit": 2048000,
            "rowLimit": 10000
          },
          "inputWidgets": {},
          "nuid": "4372fe65-8cc4-4036-b2cf-179567a258f3",
          "showTitle": false,
          "title": ""
        },
        "colab": {
          "base_uri": "https://localhost:8080/"
        },
        "id": "uoY8fvWFvfDz",
        "outputId": "426af4ed-df22-4410-c736-cccd17054240"
      },
      "outputs": [
        {
          "output_type": "stream",
          "name": "stdout",
          "text": [
            "+----------------+-----------+----------+------------+--------------------+\n",
            "|start_station_id|total_trips|male_trips|female_trips|male_to_female_ratio|\n",
            "+----------------+-----------+----------+------------+--------------------+\n",
            "|              15|      15187|      8586|        2819|   3.045760908123448|\n",
            "|               6|      13664|      7444|        1938|  3.8410732714138285|\n",
            "|              30|      12546|      9813|        2035|   4.822113022113022|\n",
            "|              67|      12055|      9409|        2105|   4.469833729216152|\n",
            "|              58|      11960|      9005|        1870|   4.815508021390374|\n",
            "|              21|      11334|      8367|        1631|  5.1299816063764565|\n",
            "|              81|      10956|      7773|        2302|  3.3766290182450045|\n",
            "|               3|      10142|      6070|        1768|   3.433257918552036|\n",
            "|              22|       9926|      7512|        1980|   3.793939393939394|\n",
            "|              16|       9347|      6532|        1740|   3.754022988505747|\n",
            "+----------------+-----------+----------+------------+--------------------+\n",
            "\n"
          ]
        }
      ],
      "source": [
        "#calculate the number of trips for each start station list top 10 and find the ratio of using as male or female | task 2\n",
        "\n",
        "station_counts = bike_data.groupBy(\"start_station_id\").agg(count(\"*\").alias(\"total_trips\"))\n",
        "\n",
        "gender_counts = bike_data.groupBy(\"start_station_id\").agg(\n",
        "    sum(when(col(\"member_gender\") == \"Male\", 1).otherwise(0)).alias(\"male_trips\"),\n",
        "    sum(when(col(\"member_gender\") == \"Female\", 1).otherwise(0)).alias(\"female_trips\")\n",
        ")\n",
        "\n",
        "combined_counts = station_counts.join(gender_counts, \"start_station_id\", \"inner\")\n",
        "\n",
        "combined_counts = combined_counts.withColumn(\"male_to_female_ratio\",\n",
        "                                             combined_counts[\"male_trips\"] / combined_counts[\"female_trips\"])\n",
        "\n",
        "top_10_stations = combined_counts.orderBy(\"total_trips\", ascending=False).limit(10)\n",
        "\n",
        "top_10_stations.show()"
      ]
    },
    {
      "cell_type": "code",
      "source": [
        "#-make a comparison to find the percentage of usage for customer and subscriber | task 3\n",
        "\n",
        "user_type_counts = bike_data.groupBy('user_type').agg(count('*').alias('total_trips'))\n",
        "\n",
        "total_trips_sum = user_type_counts.agg({\"total_trips\": \"sum\"}).collect()[0][0]\n",
        "user_type_counts = user_type_counts.withColumn(\"percentage_of_usage\",\n",
        "                                               (user_type_counts[\"total_trips\"] / total_trips_sum) * 100)\n",
        "\n",
        "user_type_counts.show()"
      ],
      "metadata": {
        "id": "BilNw-ynwW3F",
        "outputId": "9e3ac1bd-faf6-4cad-afb3-823ee5e7c12b",
        "colab": {
          "base_uri": "https://localhost:8080/"
        }
      },
      "execution_count": null,
      "outputs": [
        {
          "output_type": "stream",
          "name": "stdout",
          "text": [
            "+----------+-----------+-------------------+\n",
            "| user_type|total_trips|percentage_of_usage|\n",
            "+----------+-----------+-------------------+\n",
            "|Subscriber|     409230|  78.74350586877044|\n",
            "|  Customer|     110470| 21.256494131229555|\n",
            "+----------+-----------+-------------------+\n",
            "\n"
          ]
        }
      ]
    },
    {
      "cell_type": "code",
      "source": [
        "#calculate the age of all users and show the relation between the distance and the age | task 4\n",
        "\n",
        "from pyspark.sql.functions import year, current_date\n",
        "\n",
        "current_year = year(current_date())\n",
        "\n",
        "bike_data = bike_data.withColumn('age', current_year - col('member_birth_year'))\n",
        "\n",
        "bike_data.select('age', 'distance_km').show()\n"
      ],
      "metadata": {
        "colab": {
          "base_uri": "https://localhost:8080/"
        },
        "id": "2LBWrZGGvu2e",
        "outputId": "179fa9f7-1943-403f-ad61-d8ef87667b63"
      },
      "execution_count": null,
      "outputs": [
        {
          "output_type": "stream",
          "name": "stdout",
          "text": [
            "+----+------------------+\n",
            "| age|       distance_km|\n",
            "+----+------------------+\n",
            "|36.0| 0.942930697721659|\n",
            "|58.0| 3.069730208886286|\n",
            "|NULL|               0.0|\n",
            "|NULL|1.0466240808449843|\n",
            "|26.0|0.6363402624770698|\n",
            "|NULL|               0.0|\n",
            "|32.0|               0.0|\n",
            "|NULL|               0.0|\n",
            "|NULL|               0.0|\n",
            "|NULL|               0.0|\n",
            "|NULL|0.7713016224936289|\n",
            "|NULL|0.7713016224936289|\n",
            "|33.0| 1.517350517786709|\n",
            "|33.0| 1.517350517786709|\n",
            "|NULL|1.4225965058298293|\n",
            "|43.0|  1.05026380421915|\n",
            "|44.0|  1.05026380421915|\n",
            "|NULL|2.8563367873003527|\n",
            "|35.0|2.8563367873003527|\n",
            "|52.0|2.8592460098833117|\n",
            "+----+------------------+\n",
            "only showing top 20 rows\n",
            "\n"
          ]
        }
      ]
    },
    {
      "cell_type": "code",
      "source": [
        "%matplotlib inline"
      ],
      "metadata": {
        "id": "5i9eyRD5uc3a"
      },
      "execution_count": null,
      "outputs": []
    },
    {
      "cell_type": "code",
      "source": [
        "# age-distance plot | task 4\n",
        "import matplotlib.pyplot as plt\n",
        "\n",
        "current_year = year(current_date())\n",
        "\n",
        "bike_data = bike_data.withColumn('age', current_year - col('member_birth_year'))\n",
        "\n",
        "plt.figure(figsize=(10, 6))\n",
        "plt.scatter(bike_data.select(\"age\").rdd.flatMap(lambda x: x).collect(),\n",
        "            bike_data.select(\"distance_km\").rdd.flatMap(lambda x: x).collect(),\n",
        "            alpha=0.5, label=\"Data Points\")\n",
        "plt.xlabel('Age')\n",
        "plt.ylabel('Distance Traveled (km)')\n",
        "plt.title('Relationship Between Age and Distance Traveled')\n",
        "plt.legend()\n",
        "plt.grid(True)\n",
        "\n",
        "plt.show()\n",
        "\n"
      ],
      "metadata": {
        "id": "l0p41wPrzBBI",
        "colab": {
          "base_uri": "https://localhost:8080/",
          "height": 620
        },
        "outputId": "b8a7dd68-3239-4e02-9cbc-f965142969db"
      },
      "execution_count": null,
      "outputs": [
        {
          "output_type": "stream",
          "name": "stderr",
          "text": [
            "/usr/local/lib/python3.10/dist-packages/IPython/core/pylabtools.py:151: UserWarning: Creating legend with loc=\"best\" can be slow with large amounts of data.\n",
            "  fig.canvas.print_figure(bytes_io, **kw)\n"
          ]
        },
        {
          "output_type": "display_data",
          "data": {
            "text/plain": [
              "<Figure size 1000x600 with 1 Axes>"
            ],
            "image/png": "[encoded data removed]"
          },
          "metadata": {}
        }
      ]
    },
    {
      "cell_type": "code",
      "execution_count": null,
      "metadata": {
        "application/vnd.databricks.v1+cell": {
          "cellMetadata": {
            "byteLimit": 2048000,
            "rowLimit": 10000
          },
          "inputWidgets": {},
          "nuid": "75e14777-0192-4e6a-a3a0-de1bf6149054",
          "showTitle": false,
          "title": ""
        },
        "colab": {
          "base_uri": "https://localhost:8080/"
        },
        "id": "wi7cipKBvfD1",
        "outputId": "58d35e9d-5473-4de2-c884-4089da659bfd"
      },
      "outputs": [
        {
          "output_type": "stream",
          "name": "stdout",
          "text": [
            "Minimum birth year: 1886.0\n"
          ]
        }
      ],
      "source": [
        "from pyspark.sql.functions import max, min\n",
        "\n",
        "min_byear = bike_data.select(min(\"member_birth_year\")).first()[0]\n",
        "\n",
        "print(\"Minimum birth year:\", min_byear)"
      ]
    },
    {
      "cell_type": "code",
      "source": [
        "#1-calculate the total cost for all customers and all subscribers | task 1\n",
        "\n",
        "user_type_counts = bike_data.groupBy('user_type').agg(sum('fee').alias('total_cost'))\n",
        "\n",
        "user_type_counts.show()"
      ],
      "metadata": {
        "id": "3oxkrE4hzGlP",
        "colab": {
          "base_uri": "https://localhost:8080/"
        },
        "outputId": "50abfd3c-c364-495a-c481-c9894cb77588"
      },
      "execution_count": null,
      "outputs": [
        {
          "output_type": "stream",
          "name": "stdout",
          "text": [
            "+----------+------------------+\n",
            "| user_type|        total_cost|\n",
            "+----------+------------------+\n",
            "|Subscriber|1684845.4408333309|\n",
            "|  Customer| 1648191.084166668|\n",
            "+----------+------------------+\n",
            "\n"
          ]
        }
      ]
    },
    {
      "cell_type": "code",
      "execution_count": null,
      "metadata": {
        "application/vnd.databricks.v1+cell": {
          "cellMetadata": {
            "byteLimit": 2048000,
            "rowLimit": 10000
          },
          "inputWidgets": {},
          "nuid": "0f624e73-b9eb-4e65-965f-f3fdc5a5c2a7",
          "showTitle": false,
          "title": ""
        },
        "colab": {
          "base_uri": "https://localhost:8080/"
        },
        "id": "A_hrSMHAvfD2",
        "outputId": "73a4df5a-b646-4fb9-de0e-d050f6229e2f"
      },
      "outputs": [
        {
          "output_type": "stream",
          "name": "stdout",
          "text": [
            "Credit Card Usage Ratio: 0.49959399653646336\n",
            "App Wallet Usage Ratio: 0.5004060034635367\n"
          ]
        }
      ],
      "source": [
        "#what is the ratio of payment using credit card and app wallet | task 4\n",
        "\n",
        "payment_method_counts = bike_data.groupBy(\"pyment\").agg(count(\"*\").alias(\"count\"))\n",
        "\n",
        "total_count_all_methods = payment_method_counts.agg(sum(\"count\")).collect()[0][0]\n",
        "\n",
        "credit_card_count = payment_method_counts.filter(payment_method_counts[\"pyment\"] == \"credit card\").collect()[0][\"count\"]\n",
        "app_wallet_count = payment_method_counts.filter(payment_method_counts[\"pyment\"] == \"app wallet\").collect()[0][\"count\"]\n",
        "\n",
        "credit_card_ratio = credit_card_count / total_count_all_methods\n",
        "app_wallet_ratio = app_wallet_count / total_count_all_methods\n",
        "\n",
        "print(\"Credit Card Usage Ratio:\", credit_card_ratio)\n",
        "print(\"App Wallet Usage Ratio:\", app_wallet_ratio)\n"
      ]
    },
    {
      "cell_type": "code",
      "execution_count": null,
      "metadata": {
        "application/vnd.databricks.v1+cell": {
          "cellMetadata": {
            "byteLimit": 2048000,
            "rowLimit": 10000
          },
          "inputWidgets": {},
          "nuid": "5557af42-0648-4733-b6a7-4f76233603ca",
          "showTitle": false,
          "title": ""
        },
        "colab": {
          "base_uri": "https://localhost:8080/"
        },
        "id": "qz9cAyl8vfEm",
        "outputId": "4a7d6572-755f-4b5f-c342-ffd1b62e3b1c"
      },
      "outputs": [
        {
          "output_type": "stream",
          "name": "stdout",
          "text": [
            "+----------+------------------+----------+----------+\n",
            "| user_type|        total_cost|cc_payment|aw_payment|\n",
            "+----------+------------------+----------+----------+\n",
            "|Subscriber|1684845.4408333309|    204503|    204727|\n",
            "|  Customer| 1648191.084166668|     55136|     55334|\n",
            "+----------+------------------+----------+----------+\n",
            "\n"
          ]
        }
      ],
      "source": [
        "#what is the preferred way to pay for customers and subscriber | task 5\n",
        "\n",
        "user_type_countss = bike_data.groupBy(\"user_type\").agg(count(\"*\").alias(\"user_type_count\"))\n",
        "\n",
        "\n",
        "payment_counts = bike_data.groupBy(\"user_type\").agg(\n",
        "    sum(when(col(\"pyment\") == \"credit card\", 1).otherwise(0)).alias(\"cc_payment\"),\n",
        "    sum(when(col(\"pyment\") == \"app wallet\", 1).otherwise(0)).alias(\"aw_payment\")\n",
        ")\n",
        "\n",
        "\n",
        "combined_counts = user_type_counts.join(payment_counts, \"user_type\", \"inner\")\n",
        "\n",
        "preferred_payment = combined_counts.orderBy(\"user_type\", ascending=False)\n",
        "\n",
        "preferred_payment.show()\n"
      ]
    },
    {
      "cell_type": "code",
      "execution_count": null,
      "metadata": {
        "application/vnd.databricks.v1+cell": {
          "cellMetadata": {
            "byteLimit": 2048000,
            "rowLimit": 10000
          },
          "inputWidgets": {},
          "nuid": "841c84ee-660a-4dfa-8e06-6a265eb354ea",
          "showTitle": false,
          "title": ""
        },
        "colab": {
          "base_uri": "https://localhost:8080/",
          "height": 564
        },
        "id": "3h215lY0vfD7",
        "outputId": "3831b75d-163b-4bb9-8f57-0d85aafdf5ca"
      },
      "outputs": [
        {
          "output_type": "display_data",
          "data": {
            "text/plain": [
              "<Figure size 1000x600 with 1 Axes>"
            ],
            "image/png": "[encoded data removed]"
          },
          "metadata": {}
        }
      ],
      "source": [
        "#Analyze how often bikes are being rented ( morning 6—12 am afternoon 12-6 pm - evening 6-12 pm)\n",
        "# and at what times of day (make a bar chart) | TASK 2\n",
        "\n",
        "from pyspark.sql import SparkSession\n",
        "from pyspark.sql import functions as F\n",
        "import matplotlib.pyplot as plt\n",
        "\n",
        "bike_data = bike_data.withColumn(\"hour\", F.hour(\"start_datetime\"))\n",
        "\n",
        "time_intervals = [\n",
        "    {\"name\": \"Morning\", \"start\": 6, \"end\": 12},\n",
        "    {\"name\": \"Afternoon\", \"start\": 13, \"end\": 17},\n",
        "    {\"name\": \"Evening\", \"start\": 18, \"end\": 23}\n",
        "]\n",
        "\n",
        "for interval in time_intervals:\n",
        "    bike_data = bike_data.withColumn(interval[\"name\"],\n",
        "                                     F.when((F.col(\"hour\") >= interval[\"start\"]) & (F.col(\"hour\") <= interval[\"end\"]), 1).otherwise(0))\n",
        "\n",
        "time_interval_counts = bike_data.groupBy().agg(\n",
        "    *[F.sum(interval[\"name\"]).alias(interval[\"name\"]) for interval in time_intervals]\n",
        ")\n",
        "\n",
        "time_interval_counts_df = time_interval_counts.toPandas()\n",
        "\n",
        "plt.figure(figsize=(10, 6))\n",
        "plt.bar(time_interval_counts_df.columns, time_interval_counts_df.iloc[0])\n",
        "plt.xlabel(\"Time of Day\")\n",
        "plt.ylabel(\"Number of Rentals\")\n",
        "plt.title(\"Bike Rentals by Time of Day\")\n",
        "plt.show()\n",
        "\n"
      ]
    },
    {
      "cell_type": "code",
      "execution_count": null,
      "metadata": {
        "application/vnd.databricks.v1+cell": {
          "cellMetadata": {
            "byteLimit": 2048000,
            "rowLimit": 10000
          },
          "inputWidgets": {},
          "nuid": "5b430457-8312-4ff4-a249-af534050de79",
          "showTitle": false,
          "title": ""
        },
        "colab": {
          "base_uri": "https://localhost:8080/"
        },
        "id": "EmJhZULLvfEo",
        "outputId": "7767e6ed-dff6-455b-fda8-c0ba029d6848"
      },
      "outputs": [
        {
          "output_type": "stream",
          "name": "stdout",
          "text": [
            "+----------------+-------------+---------------+-------------+\n",
            "|start_station_id|Morning_count|Afternoon_count|Evening_count|\n",
            "+----------------+-------------+---------------+-------------+\n",
            "|             296|          283|            269|           86|\n",
            "|             125|          882|            465|          376|\n",
            "|               7|          672|           1225|          982|\n",
            "|             124|          697|            535|          329|\n",
            "|             307|           70|            113|          105|\n",
            "|             205|          177|             55|           29|\n",
            "|             169|          204|            136|           49|\n",
            "|             232|          226|            179|          114|\n",
            "|              15|         9143|           4341|         1656|\n",
            "|             282|          118|            204|          103|\n",
            "|             234|           12|             37|           21|\n",
            "|             317|          240|            103|          189|\n",
            "|             132|          793|            310|          295|\n",
            "|             154|          130|            160|           27|\n",
            "|             200|         1925|            682|          439|\n",
            "|              11|         1129|           1576|          733|\n",
            "|             101|          257|            451|          149|\n",
            "|             279|          115|            108|           81|\n",
            "|             323|         2143|           1374|          904|\n",
            "|             138|          466|            176|          120|\n",
            "+----------------+-------------+---------------+-------------+\n",
            "only showing top 20 rows\n",
            "\n"
          ]
        }
      ],
      "source": [
        "station_time_counts = bike_data.groupBy(\"start_station_id\").agg(\n",
        "    *[F.sum(interval[\"name\"]).alias(interval[\"name\"] + \"_count\") for interval in time_intervals]\n",
        ")\n",
        "\n",
        "# Show the result\n",
        "station_time_counts.show()"
      ]
    },
    {
      "cell_type": "code",
      "source": [
        "station_time_counts.write.csv('station_time_counts.csv')"
      ],
      "metadata": {
        "id": "qxGprfA8z8_e"
      },
      "execution_count": null,
      "outputs": []
    },
    {
      "cell_type": "markdown",
      "metadata": {
        "application/vnd.databricks.v1+cell": {
          "cellMetadata": {},
          "inputWidgets": {},
          "nuid": "a0167c69-cb82-4c1b-8dd2-6a75f4ae6aac",
          "showTitle": false,
          "title": ""
        },
        "id": "oLJuHyBrvfEp"
      },
      "source": [
        "WEEK THREE"
      ]
    },
    {
      "cell_type": "code",
      "execution_count": null,
      "metadata": {
        "application/vnd.databricks.v1+cell": {
          "cellMetadata": {
            "byteLimit": 2048000,
            "rowLimit": 10000
          },
          "inputWidgets": {},
          "nuid": "d741b164-bec4-4780-925c-1cdc6bd1a1ac",
          "showTitle": false,
          "title": ""
        },
        "id": "4xn9Z9tkvfEp",
        "outputId": "568b6823-08ad-4747-ab73-648e88cc0285"
      },
      "outputs": [
        {
          "output_type": "display_data",
          "data": {
            "image/png": "[encoded data removed]"
          },
          "metadata": {
            "application/vnd.databricks.v1+output": {
              "addedWidgets": {},
              "arguments": {},
              "data": "data:image/png;base64,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\n",
              "datasetInfos": [],
              "metadata": {},
              "removedWidgets": [],
              "type": "image"
            }
          }
        }
      ],
      "source": [
        "#Analyze the relationship between trip duration and\n",
        "#user type( sub vs customer) to understand differences in usage patterns\n",
        "\n",
        "import matplotlib.pyplot as plt\n",
        "from pyspark.sql.functions import year, current_date\n",
        "\n",
        "plt.figure(figsize=(10, 6))\n",
        "plt.scatter(bike_data.select(\"date_difference_minutes\").rdd.flatMap(lambda x: x).collect(), bike_data.select(\"user_type\").rdd.flatMap(lambda x: x).collect(), alpha=0.5)\n",
        "plt.xlabel('Trip Duration ')\n",
        "plt.ylabel('user type')\n",
        "plt.title('Relationship Between Trip Duration and User Type')\n",
        "plt.grid(True)\n",
        "\n",
        "# Display the plot\n",
        "plt.show()"
      ]
    },
    {
      "cell_type": "code",
      "execution_count": null,
      "metadata": {
        "application/vnd.databricks.v1+cell": {
          "cellMetadata": {
            "byteLimit": 2048000,
            "rowLimit": 10000
          },
          "inputWidgets": {},
          "nuid": "efa20276-01f7-418d-9f5a-307ceca196b6",
          "showTitle": false,
          "title": ""
        },
        "colab": {
          "base_uri": "https://localhost:8080/"
        },
        "id": "5Pytr6zwvfEt",
        "outputId": "c3ea505e-44ca-4020-c656-ba3d1927a0f7"
      },
      "outputs": [
        {
          "output_type": "stream",
          "name": "stdout",
          "text": [
            "+-------------------+-------------------+----------------+--------------------+----------------------+-----------------------+--------------+--------------------+--------------------+---------------------+-------+---------+-----------------+-------------+-----------+-----------------+---------------+-----------------------+------------------+----+----+-------+---------+-------+-----------------------+--------------------+\n",
            "|     start_datetime|       end_datetime|start_station_id|  start_station_name|start_station_latitude|start_station_longitude|end_station_id|    end_station_name|end_station_latitude|end_station_longitude|bike_id|user_type|member_birth_year|member_gender|     pyment|      distance_km|     difference|date_difference_seconds|               fee| age|hour|Morning|Afternoon|Evening|date_difference_minutes|date_difference_hour|\n",
            "+-------------------+-------------------+----------------+--------------------+----------------------+-----------------------+--------------+--------------------+--------------------+---------------------+-------+---------+-----------------+-------------+-----------+-----------------+---------------+-----------------------+------------------+----+----+-------+---------+-------+-----------------------+--------------------+\n",
            "|2017-12-31 16:57:40|2018-01-01 15:12:50|              74|Laguna St at Haye...|           37.77643482|            -122.426244|            43|San Francisco Pub...|          37.7787677|         -122.4159292|     96| Customer|           1987.0|         Male|credit card|0.942930697721659|0 days 22:15:10|                80110.0|467.30833333333334|36.0|  16|      0|        1|      0|     1335.1666666666667|   22.25277777777778|\n",
            "|2017-12-31 15:56:35|2018-01-01 13:49:56|             284|Yerba Buena Cente...|           37.78487208|           -122.4008757|            96|Dolores St at 15t...|          37.7662102|         -122.4266136|     88| Customer|           1965.0|       Female|credit card|3.069730208886286|0 days 21:53:21|                78801.0|459.67249999999996|58.0|  15|      0|        1|      0|                1313.35|  21.889166666666664|\n",
            "|2017-12-31 22:45:48|2018-01-01 11:28:37|             245|Downtown Berkeley...|            37.8703477|           -122.2677637|           245|Downtown Berkeley...|          37.8703477|         -122.2677637|   1094| Customer|             null|         null|credit card|              0.0|0 days 12:42:49|                45769.0|266.98583333333335|null|  22|      0|        0|      1|      762.8166666666667|  12.713611111111112|\n",
            "+-------------------+-------------------+----------------+--------------------+----------------------+-----------------------+--------------+--------------------+--------------------+---------------------+-------+---------+-----------------+-------------+-----------+-----------------+---------------+-----------------------+------------------+----+----+-------+---------+-------+-----------------------+--------------------+\n",
            "only showing top 3 rows\n",
            "\n"
          ]
        }
      ],
      "source": [
        "bike_data = bike_data.withColumn('date_difference_minutes', col('date_difference_seconds') / 60)\n",
        "bike_data = bike_data.withColumn('date_difference_hour', col('date_difference_minutes') / 60)\n",
        "bike_data.show(3)"
      ]
    },
    {
      "cell_type": "code",
      "execution_count": null,
      "metadata": {
        "application/vnd.databricks.v1+cell": {
          "cellMetadata": {
            "byteLimit": 2048000,
            "rowLimit": 10000
          },
          "inputWidgets": {},
          "nuid": "0920b43a-b4fc-420b-a886-ded341479634",
          "showTitle": false,
          "title": ""
        },
        "colab": {
          "base_uri": "https://localhost:8080/"
        },
        "id": "JkKTZ8acvfEs",
        "outputId": "447659bc-6458-4b11-fcf1-e28120a14558"
      },
      "outputs": [
        {
          "output_type": "stream",
          "name": "stdout",
          "text": [
            "+----------+------------------+\n",
            "| user_type| avg_trip_duration|\n",
            "+----------+------------------+\n",
            "|Subscriber|11.763175027897955|\n",
            "|  Customer| 42.62802012612796|\n",
            "+----------+------------------+\n",
            "\n"
          ]
        }
      ],
      "source": [
        "from pyspark.sql.functions import *\n",
        "\n",
        "avg_trip = bike_data.groupBy(\"user_type\").agg(mean(\"date_difference_minutes\").alias(\"avg_trip_duration\"))\n",
        "\n",
        "avg_trip.show()\n",
        "\n",
        "\n",
        "#Subscribers have a much shorter average trip duration compared to customers. This indicates that subscribers typically take shorter trips on average, suggesting that they might use the service for daily commutes or short, regular trips.\n",
        "\n",
        "#Customers, on the other hand, have a significantly longer average trip duration, indicating that they take longer trips on average. This could mean that customers use the service for leisure or occasional travel, which tends to be of longer duration."
      ]
    },
    {
      "cell_type": "code",
      "execution_count": null,
      "metadata": {
        "application/vnd.databricks.v1+cell": {
          "cellMetadata": {
            "byteLimit": 2048000,
            "rowLimit": 10000
          },
          "inputWidgets": {},
          "nuid": "9018db21-061d-4195-86e9-5387fa8fde63",
          "showTitle": false,
          "title": ""
        },
        "id": "rgccWk55vfEu"
      },
      "outputs": [],
      "source": [
        "trip_duration_column = bike_data.select('date_difference_minutes')"
      ]
    },
    {
      "cell_type": "code",
      "execution_count": null,
      "metadata": {
        "application/vnd.databricks.v1+cell": {
          "cellMetadata": {
            "byteLimit": 2048000,
            "rowLimit": 10000
          },
          "inputWidgets": {},
          "nuid": "85e68241-2b19-4fc1-99f3-b340e0a5d9cc",
          "showTitle": false,
          "title": ""
        },
        "id": "3dFpN7z7vfEu"
      },
      "outputs": [],
      "source": [
        "trip_duration_series = trip_duration_column.toPandas()[\"date_difference_minutes\"]"
      ]
    },
    {
      "cell_type": "code",
      "execution_count": null,
      "metadata": {
        "application/vnd.databricks.v1+cell": {
          "cellMetadata": {
            "byteLimit": 2048000,
            "rowLimit": 10000
          },
          "inputWidgets": {},
          "nuid": "ccb103ee-0d46-48d7-8f23-db24cbc17f78",
          "showTitle": false,
          "title": ""
        },
        "id": "mBA-ULY_vfEv"
      },
      "outputs": [],
      "source": [
        "import pandas as pd\n",
        "trip_duration_data = pd.DataFrame({\"date_difference_minutes\": trip_duration_series})"
      ]
    },
    {
      "cell_type": "code",
      "execution_count": null,
      "metadata": {
        "application/vnd.databricks.v1+cell": {
          "cellMetadata": {
            "byteLimit": 2048000,
            "rowLimit": 10000
          },
          "inputWidgets": {},
          "nuid": "15eb7aa8-daf2-412d-81c0-dd4ba217ee3a",
          "showTitle": false,
          "title": ""
        },
        "colab": {
          "base_uri": "https://localhost:8080/",
          "height": 682
        },
        "id": "SAvaK1itvfEw",
        "outputId": "389e7a5d-1739-4126-bfe5-b315cdf608ee"
      },
      "outputs": [
        {
          "output_type": "stream",
          "name": "stderr",
          "text": [
            "<ipython-input-26-5d6e70c40ee4>:5: FutureWarning: \n",
            "\n",
            "`shade` is now deprecated in favor of `fill`; setting `fill=True`.\n",
            "This will become an error in seaborn v0.14.0; please update your code.\n",
            "\n",
            "  sns.kdeplot(trip_duration_data[\"date_difference_minutes\"], shade=True, color=\"b\")\n"
          ]
        },
        {
          "output_type": "display_data",
          "data": {
            "text/plain": [
              "<Figure size 1000x600 with 1 Axes>"
            ],
            "image/png": "[encoded data removed]"
          },
          "metadata": {}
        }
      ],
      "source": [
        "import seaborn as sns\n",
        "# Create a density plot using Seaborn\n",
        "sns.set(style=\"whitegrid\")\n",
        "plt.figure(figsize=(10, 6))\n",
        "sns.kdeplot(trip_duration_data[\"date_difference_minutes\"], shade=True, color=\"b\")\n",
        "\n",
        "# Add labels and a title\n",
        "plt.xlabel(\"Trip Duration in Minutes\")\n",
        "plt.ylabel(\"Density\")\n",
        "plt.title(\"Trip Duration Density Plot\")\n",
        "\n",
        "# Show the plot\n",
        "plt.show()"
      ]
    },
    {
      "cell_type": "code",
      "execution_count": null,
      "metadata": {
        "application/vnd.databricks.v1+cell": {
          "cellMetadata": {
            "byteLimit": 2048000,
            "rowLimit": 10000
          },
          "inputWidgets": {},
          "nuid": "24a45ec0-0218-4fb4-8d09-8af680c9d2d5",
          "showTitle": false,
          "title": ""
        },
        "colab": {
          "base_uri": "https://localhost:8080/",
          "height": 573
        },
        "id": "Bb8XQ6psvfEx",
        "outputId": "5bff800f-3061-4873-b62b-c12dd64d6575"
      },
      "outputs": [
        {
          "output_type": "display_data",
          "data": {
            "text/plain": [
              "<Figure size 800x600 with 1 Axes>"
            ],
            "image/png": "[encoded data removed]"
          },
          "metadata": {}
        }
      ],
      "source": [
        "import matplotlib.pyplot as plt\n",
        "\n",
        "custom_bins = [0, 10, 20, 30, 40, 50, 60, 70, 80, 90, 100]\n",
        "\n",
        "plt.figure(figsize=(8, 6))\n",
        "plt.hist(trip_duration_data[\"date_difference_minutes\"], bins=custom_bins, color=\"b\", alpha=0.7, edgecolor=\"k\")\n",
        "\n",
        "plt.xlabel(\"Trip Duration\")\n",
        "plt.ylabel(\"Count\")\n",
        "plt.title(\"Histogram of Trip Durations\")\n",
        "\n",
        "plt.show()\n",
        "\n",
        "#half of the users drop after 10 minutes, so we can suggest that every 10 minute the fee gradually decreases\n",
        "#for example in the beginning its 0.35 cent and after the first 10 minutes we can try to descrease it by 15% to 0.2975"
      ]
    },
    {
      "cell_type": "code",
      "execution_count": null,
      "metadata": {
        "application/vnd.databricks.v1+cell": {
          "cellMetadata": {
            "byteLimit": 2048000,
            "rowLimit": 10000
          },
          "inputWidgets": {},
          "nuid": "6c06668a-8243-4489-800c-010488893fcc",
          "showTitle": false,
          "title": ""
        },
        "id": "A29locIrvfEy",
        "outputId": "3a00d0fc-2edf-40e4-c016-3c576ee3a5fc"
      },
      "outputs": [
        {
          "output_type": "stream",
          "name": "stdout",
          "text": [
            "Out[30]: 519700"
          ]
        }
      ],
      "source": [
        "bike_data.count()"
      ]
    },
    {
      "cell_type": "code",
      "execution_count": null,
      "metadata": {
        "application/vnd.databricks.v1+cell": {
          "cellMetadata": {
            "byteLimit": 2048000,
            "rowLimit": 10000
          },
          "inputWidgets": {},
          "nuid": "c15cf9e7-c7d2-4da9-bcbc-3cb39a5f2888",
          "showTitle": false,
          "title": ""
        },
        "id": "X6_gNXQ8vfE0"
      },
      "outputs": [],
      "source": [
        "bike_data = bike_data.withColumn(\"route\", concat_ws(\" - \", col(\"start_station_name\"), col(\"end_station_name\")))"
      ]
    },
    {
      "cell_type": "code",
      "execution_count": null,
      "metadata": {
        "application/vnd.databricks.v1+cell": {
          "cellMetadata": {
            "byteLimit": 2048000,
            "rowLimit": 10000
          },
          "inputWidgets": {},
          "nuid": "ce0e1376-5fc9-458b-a9df-4155ff0c377d",
          "showTitle": false,
          "title": ""
        },
        "id": "9bpxrCAnvfE0",
        "outputId": "92746a9f-f745-4c07-83d1-2919694c8d72"
      },
      "outputs": [
        {
          "output_type": "stream",
          "name": "stdout",
          "text": [
            "+--------------------+\n|               route|\n+--------------------+\n|Laguna St at Haye...|\n+--------------------+\nonly showing top 1 row\n\n"
          ]
        }
      ],
      "source": [
        "bike_data.select('route').show(1)"
      ]
    },
    {
      "cell_type": "code",
      "execution_count": null,
      "metadata": {
        "application/vnd.databricks.v1+cell": {
          "cellMetadata": {
            "byteLimit": 2048000,
            "rowLimit": 10000
          },
          "inputWidgets": {},
          "nuid": "71214991-36d8-49d9-a65b-84e65c217f3d",
          "showTitle": false,
          "title": ""
        },
        "colab": {
          "base_uri": "https://localhost:8080/"
        },
        "id": "Ovxjwl6GvfE1",
        "outputId": "8f74f85b-d5d5-4f3d-cfae-c7b570d1d9b0"
      },
      "outputs": [
        {
          "output_type": "stream",
          "name": "stdout",
          "text": [
            "+--------------------+-----+\n",
            "|               route|total|\n",
            "+--------------------+-----+\n",
            "|San Francisco Fer...| 3344|\n",
            "|The Embarcadero a...| 1793|\n",
            "|The Embarcadero a...| 1734|\n",
            "|Berry St at 4th S...| 1686|\n",
            "|2nd St at S Park ...| 1509|\n",
            "|Montgomery St BAR...| 1485|\n",
            "|San Francisco Fer...| 1401|\n",
            "|Steuart St at Mar...| 1361|\n",
            "|2nd St at Townsen...| 1274|\n",
            "|19th Street BART ...| 1196|\n",
            "|The Embarcadero a...| 1190|\n",
            "|Howard St at Beal...| 1183|\n",
            "|Market St at 10th...| 1148|\n",
            "|San Francisco Fer...| 1105|\n",
            "|Howard St at 2nd ...| 1100|\n",
            "|Bay Pl at Vernon ...| 1054|\n",
            "|Grand Ave at Perk...| 1041|\n",
            "|The Embarcadero a...| 1037|\n",
            "|5th St at Howard ...| 1031|\n",
            "|Montgomery St BAR...|  987|\n",
            "+--------------------+-----+\n",
            "only showing top 20 rows\n",
            "\n"
          ]
        }
      ],
      "source": [
        "route_grouped = bike_data.groupBy(\"route\").agg(count(\"*\").alias(\"total\")).orderBy('total', ascending=False)\n",
        "route_grouped.show()"
      ]
    },
    {
      "cell_type": "code",
      "source": [
        "route_grouped2 = bike_data.groupBy('route').agg(sum('fee').alias('total_fee'))"
      ],
      "metadata": {
        "id": "8cRgxUSXL6HA"
      },
      "execution_count": null,
      "outputs": []
    },
    {
      "cell_type": "code",
      "source": [
        "merge_route = route_grouped.join(route_grouped2, route_grouped['route'] == route_grouped2['route'], 'outer')\n"
      ],
      "metadata": {
        "colab": {
          "base_uri": "https://localhost:8080/"
        },
        "id": "0dwkJvtyMyQ8",
        "outputId": "f70d134b-5f65-4139-f061-dbe792ad0155"
      },
      "execution_count": null,
      "outputs": [
        {
          "output_type": "stream",
          "name": "stdout",
          "text": [
            "+--------------------+-----+--------------------+------------------+\n",
            "|               route|total|               route|         total_fee|\n",
            "+--------------------+-----+--------------------+------------------+\n",
            "|10th Ave at E 15t...|   16|10th Ave at E 15t...| 49.18666666666667|\n",
            "|10th Ave at E 15t...|    2|10th Ave at E 15t...| 8.919166666666666|\n",
            "|10th Ave at E 15t...|    2|10th Ave at E 15t...|24.826666666666664|\n",
            "|10th Ave at E 15t...|    6|10th Ave at E 15t...|             25.62|\n",
            "|10th Ave at E 15t...|    2|10th Ave at E 15t...|            15.645|\n",
            "|10th Ave at E 15t...|    2|10th Ave at E 15t...|11.701666666666666|\n",
            "|10th Ave at E 15t...|    7|10th Ave at E 15t...|30.881666666666664|\n",
            "|10th Ave at E 15t...|    5|10th Ave at E 15t...| 44.94583333333333|\n",
            "|10th Ave at E 15t...|    4|10th Ave at E 15t...|            66.605|\n",
            "|10th Ave at E 15t...|    5|10th Ave at E 15t...|105.43166666666664|\n",
            "|10th Ave at E 15t...|    1|10th Ave at E 15t...|              6.02|\n",
            "|10th Ave at E 15t...|   28|10th Ave at E 15t...|104.10749999999999|\n",
            "|10th Ave at E 15t...|    5|10th Ave at E 15t...|38.610833333333325|\n",
            "|10th Ave at E 15t...|    1|10th Ave at E 15t...| 8.983333333333333|\n",
            "|10th Ave at E 15t...|    4|10th Ave at E 15t...|25.964166666666664|\n",
            "|10th Ave at E 15t...|    2|10th Ave at E 15t...|             13.16|\n",
            "|10th Ave at E 15t...|    4|10th Ave at E 15t...|37.368333333333325|\n",
            "|10th Ave at E 15t...|    3|10th Ave at E 15t...|17.313333333333333|\n",
            "|10th St at Fallon...|   25|10th St at Fallon...| 94.82666666666665|\n",
            "|10th St at Fallon...|   64|10th St at Fallon...|1844.3483333333334|\n",
            "+--------------------+-----+--------------------+------------------+\n",
            "only showing top 20 rows\n",
            "\n"
          ]
        }
      ]
    },
    {
      "cell_type": "code",
      "source": [
        "merge_route = merge_route.drop(route_grouped2.route)"
      ],
      "metadata": {
        "id": "L7yfs6LgPDgV"
      },
      "execution_count": null,
      "outputs": []
    },
    {
      "cell_type": "code",
      "source": [
        "distance_route = bike_data.groupBy('route').agg(sum('distance_km').alias('count of distance'))\n",
        "distance_route.show()"
      ],
      "metadata": {
        "colab": {
          "base_uri": "https://localhost:8080/"
        },
        "id": "PUlfHqABNCfH",
        "outputId": "fa13191e-1156-40d9-988c-bdadc07f4a0a"
      },
      "execution_count": null,
      "outputs": [
        {
          "output_type": "stream",
          "name": "stdout",
          "text": [
            "+--------------------+------------------+\n",
            "|               route| count of distance|\n",
            "+--------------------+------------------+\n",
            "|20th St at Bryant...|               0.0|\n",
            "|Commercial St at ...|19.409013609959082|\n",
            "|47th St at San Pa...| 2.448050463515122|\n",
            "|Division St at Po...| 192.6869023068837|\n",
            "|18th St at Noe St...|   34.672519307652|\n",
            "|Spear St at Folso...| 29.23568172322822|\n",
            "|2nd Ave at E 18th...| 102.6118863379962|\n",
            "|29th St at Tiffan...| 53.32599086737302|\n",
            "|Golden Gate Ave a...| 2.825806735058541|\n",
            "|5th St at Brannan...|226.14127122009324|\n",
            "|Valencia St at 21...|  74.5303752114064|\n",
            "|Lakeshore Ave at ...|237.77866685896726|\n",
            "|Golden Gate Ave a...| 25.30129952858443|\n",
            "|13th St at Frankl...| 1.766225403986619|\n",
            "|College Ave at Ha...|59.873005318948486|\n",
            "|Union Square (Pow...| 39.12392445780438|\n",
            "|Fruitvale BART St...| 5.259884355925762|\n",
            "|Franklin St at 9t...| 74.49471105735405|\n",
            "|San Francisco Cit...| 24.24979080234874|\n",
            "|Powell St BART St...|  70.3122234394888|\n",
            "+--------------------+------------------+\n",
            "only showing top 20 rows\n",
            "\n"
          ]
        }
      ]
    },
    {
      "cell_type": "code",
      "source": [
        "merge_dis_fee = distance_route.join(merge_route, distance_route['route'] == merge_route['route'], 'outer')\n",
        "\n",
        "merge_dis_fee.show()\n"
      ],
      "metadata": {
        "colab": {
          "base_uri": "https://localhost:8080/"
        },
        "id": "R8bfu7pLNc4E",
        "outputId": "43308f18-c583-4991-8435-2b34e82645ab"
      },
      "execution_count": null,
      "outputs": [
        {
          "output_type": "stream",
          "name": "stdout",
          "text": [
            "+--------------------+------------------+-----+--------------------+------------------+\n",
            "|               route| count of distance|total|               route|         total_fee|\n",
            "+--------------------+------------------+-----+--------------------+------------------+\n",
            "|10th Ave at E 15t...| 21.84845702897097|   16|10th Ave at E 15t...| 49.18666666666667|\n",
            "|10th Ave at E 15t...| 4.983973250928234|    2|10th Ave at E 15t...| 8.919166666666666|\n",
            "|10th Ave at E 15t...| 9.655432671392823|    2|10th Ave at E 15t...|24.826666666666664|\n",
            "|10th Ave at E 15t...| 10.77431982037442|    6|10th Ave at E 15t...|             25.62|\n",
            "|10th Ave at E 15t...| 7.328434103462173|    2|10th Ave at E 15t...|            15.645|\n",
            "|10th Ave at E 15t...| 5.013266193157361|    2|10th Ave at E 15t...|11.701666666666666|\n",
            "|10th Ave at E 15t...|15.625039824972074|    7|10th Ave at E 15t...|30.881666666666664|\n",
            "|10th Ave at E 15t...|11.117541076540649|    5|10th Ave at E 15t...| 44.94583333333333|\n",
            "|10th Ave at E 15t...| 22.38224871767608|    4|10th Ave at E 15t...|            66.605|\n",
            "|10th Ave at E 15t...| 9.607453474318154|    5|10th Ave at E 15t...|105.43166666666664|\n",
            "|10th Ave at E 15t...|2.2314521762210764|    1|10th Ave at E 15t...|              6.02|\n",
            "|10th Ave at E 15t...|43.145909272012744|   28|10th Ave at E 15t...|104.10749999999999|\n",
            "|10th Ave at E 15t...|10.494423011997355|    5|10th Ave at E 15t...|38.610833333333325|\n",
            "|10th Ave at E 15t...|  4.69201390320027|    1|10th Ave at E 15t...| 8.983333333333333|\n",
            "|10th Ave at E 15t...|  8.69535290971352|    4|10th Ave at E 15t...|25.964166666666664|\n",
            "|10th Ave at E 15t...| 5.661593398704884|    2|10th Ave at E 15t...|             13.16|\n",
            "|10th Ave at E 15t...|12.370466086882995|    4|10th Ave at E 15t...|37.368333333333325|\n",
            "|10th Ave at E 15t...| 7.387765327824862|    3|10th Ave at E 15t...|17.313333333333333|\n",
            "|10th St at Fallon...| 34.13821410776715|   25|10th St at Fallon...| 94.82666666666665|\n",
            "|10th St at Fallon...|               0.0|   64|10th St at Fallon...|1844.3483333333334|\n",
            "+--------------------+------------------+-----+--------------------+------------------+\n",
            "only showing top 20 rows\n",
            "\n"
          ]
        }
      ]
    },
    {
      "cell_type": "code",
      "source": [
        "merge_dis_fee = merge_dis_fee.drop(distance_route.route)"
      ],
      "metadata": {
        "id": "e3Ep-DvuPS9F"
      },
      "execution_count": null,
      "outputs": []
    },
    {
      "cell_type": "code",
      "source": [
        "merge_dis_fee.show()"
      ],
      "metadata": {
        "colab": {
          "base_uri": "https://localhost:8080/"
        },
        "id": "bL-qsTihPbRR",
        "outputId": "7f37875a-9099-47d2-c681-b2dd7216ee52"
      },
      "execution_count": null,
      "outputs": [
        {
          "output_type": "stream",
          "name": "stdout",
          "text": [
            "+------------------+-----+--------------------+------------------+\n",
            "| count of distance|total|               route|         total_fee|\n",
            "+------------------+-----+--------------------+------------------+\n",
            "| 21.84845702897097|   16|10th Ave at E 15t...| 49.18666666666667|\n",
            "| 4.983973250928234|    2|10th Ave at E 15t...| 8.919166666666666|\n",
            "| 9.655432671392823|    2|10th Ave at E 15t...|24.826666666666664|\n",
            "| 10.77431982037442|    6|10th Ave at E 15t...|             25.62|\n",
            "| 7.328434103462173|    2|10th Ave at E 15t...|            15.645|\n",
            "| 5.013266193157361|    2|10th Ave at E 15t...|11.701666666666666|\n",
            "|15.625039824972074|    7|10th Ave at E 15t...|30.881666666666664|\n",
            "|11.117541076540649|    5|10th Ave at E 15t...| 44.94583333333333|\n",
            "| 22.38224871767608|    4|10th Ave at E 15t...|            66.605|\n",
            "| 9.607453474318154|    5|10th Ave at E 15t...|105.43166666666664|\n",
            "|2.2314521762210764|    1|10th Ave at E 15t...|              6.02|\n",
            "|43.145909272012744|   28|10th Ave at E 15t...|104.10749999999999|\n",
            "|10.494423011997355|    5|10th Ave at E 15t...|38.610833333333325|\n",
            "|  4.69201390320027|    1|10th Ave at E 15t...| 8.983333333333333|\n",
            "|  8.69535290971352|    4|10th Ave at E 15t...|25.964166666666664|\n",
            "| 5.661593398704884|    2|10th Ave at E 15t...|             13.16|\n",
            "|12.370466086882995|    4|10th Ave at E 15t...|37.368333333333325|\n",
            "| 7.387765327824862|    3|10th Ave at E 15t...|17.313333333333333|\n",
            "| 34.13821410776715|   25|10th St at Fallon...| 94.82666666666665|\n",
            "|               0.0|   64|10th St at Fallon...|1844.3483333333334|\n",
            "+------------------+-----+--------------------+------------------+\n",
            "only showing top 20 rows\n",
            "\n"
          ]
        }
      ]
    },
    {
      "cell_type": "code",
      "source": [
        "merge_dis_fee.write.csv('merged_distance_fee.csv')"
      ],
      "metadata": {
        "id": "cQ6_OV68P4SG"
      },
      "execution_count": null,
      "outputs": []
    },
    {
      "cell_type": "code",
      "source": [
        "route_grouped.write.csv('route.csv')"
      ],
      "metadata": {
        "id": "TxIzWfO00cJM"
      },
      "execution_count": null,
      "outputs": []
    },
    {
      "cell_type": "code",
      "execution_count": null,
      "metadata": {
        "application/vnd.databricks.v1+cell": {
          "cellMetadata": {
            "byteLimit": 2048000,
            "rowLimit": 10000
          },
          "inputWidgets": {},
          "nuid": "55d57899-d5aa-4e58-821c-dc3c52f1cced",
          "showTitle": false,
          "title": ""
        },
        "id": "eYCDp3bcvfE1"
      },
      "outputs": [],
      "source": [
        "bike_data = bike_data.withColumn(\"Month\", month(col(\"start_datetime\")))"
      ]
    },
    {
      "cell_type": "code",
      "execution_count": null,
      "metadata": {
        "application/vnd.databricks.v1+cell": {
          "cellMetadata": {
            "byteLimit": 2048000,
            "rowLimit": 10000
          },
          "inputWidgets": {},
          "nuid": "37b0dff9-19da-42c0-ab1b-0b231a32228e",
          "showTitle": false,
          "title": ""
        },
        "id": "MHv13oy4vfE2"
      },
      "outputs": [],
      "source": [
        "bike_data = bike_data.withColumn(\n",
        "    \"Season\",\n",
        "    when((month(\"start_datetime\") >= 12) | (month(\"start_datetime\") <= 2), \"Winter\")\n",
        "    .when((month(\"start_datetime\") >= 3) & (month(\"start_datetime\") <= 5), \"Spring\")\n",
        "    .when((month(\"start_datetime\") >= 6) & (month(\"start_datetime\") <= 8), \"Summer\")\n",
        "    .when((month(\"start_datetime\") >= 9) & (month(\"start_datetime\") <= 11), \"Fall\")\n",
        "    .otherwise(\"Unknown\")\n",
        ")"
      ]
    },
    {
      "cell_type": "code",
      "execution_count": null,
      "metadata": {
        "application/vnd.databricks.v1+cell": {
          "cellMetadata": {
            "byteLimit": 2048000,
            "rowLimit": 10000
          },
          "inputWidgets": {},
          "nuid": "9086b772-aaf4-4d51-9a55-a8aa63cb6a20",
          "showTitle": false,
          "title": ""
        },
        "colab": {
          "base_uri": "https://localhost:8080/"
        },
        "id": "-vjOS1UyvfE3",
        "outputId": "3d9d1032-db18-419f-c134-12b5639e3380"
      },
      "outputs": [
        {
          "output_type": "stream",
          "name": "stdout",
          "text": [
            "+------+-----------+\n",
            "|Season|total_count|\n",
            "+------+-----------+\n",
            "|  Fall|     303107|\n",
            "|Winter|      86539|\n",
            "|Summer|     130054|\n",
            "+------+-----------+\n",
            "\n"
          ]
        }
      ],
      "source": [
        "trip_season = bike_data.groupBy('Season').agg(count('*').alias('total_count'))\n",
        "trip_season.show()"
      ]
    },
    {
      "cell_type": "code",
      "execution_count": null,
      "metadata": {
        "application/vnd.databricks.v1+cell": {
          "cellMetadata": {
            "byteLimit": 2048000,
            "rowLimit": 10000
          },
          "inputWidgets": {},
          "nuid": "13babc5e-35df-41da-aeaf-40c16bb2b8d4",
          "showTitle": false,
          "title": ""
        },
        "colab": {
          "base_uri": "https://localhost:8080/"
        },
        "id": "CzrhcYXuvfE3",
        "outputId": "193903f1-2b59-455b-8245-e0bf9ef209fc"
      },
      "outputs": [
        {
          "output_type": "stream",
          "name": "stdout",
          "text": [
            "+----------------+------------------+--------------+----------------+\n",
            "|start_station_id|total_trips_starts|end_station_id|total_trips_ends|\n",
            "+----------------+------------------+--------------+----------------+\n",
            "|              10|              2310|            10|            2696|\n",
            "|             100|              1567|           100|            1541|\n",
            "|             101|               873|           101|             929|\n",
            "|             102|              1071|           102|            1375|\n",
            "|             105|              1481|           105|             889|\n",
            "|             106|              1100|           106|             976|\n",
            "|             107|              1607|           107|            1355|\n",
            "|             108|               925|           108|             991|\n",
            "|             109|              3053|           109|            3214|\n",
            "|              11|              3474|            11|            3893|\n",
            "|             110|              1021|           110|            1123|\n",
            "|             112|              2147|           112|            2783|\n",
            "|             113|              1133|           113|             889|\n",
            "|             114|              2516|           114|            2676|\n",
            "|             115|              1624|           115|            1797|\n",
            "|             116|              2001|           116|            2005|\n",
            "|             118|               416|           118|             281|\n",
            "|             119|              2266|           119|            2330|\n",
            "|             120|              2444|           120|            2625|\n",
            "|             121|              2636|           121|            2977|\n",
            "+----------------+------------------+--------------+----------------+\n",
            "only showing top 20 rows\n",
            "\n"
          ]
        }
      ],
      "source": [
        "start_station_total = bike_data.groupBy('start_station_id').agg(count('*').alias('total_trips_starts'))\n",
        "end_station_total = bike_data.groupBy('end_station_id').agg(count('*').alias('total_trips_ends'))\n",
        "merged_station_total = start_station_total.join(end_station_total, start_station_total['start_station_id'] == end_station_total['end_station_id'], 'outer')\n",
        "\n",
        "merged_station_total.show()"
      ]
    },
    {
      "cell_type": "code",
      "execution_count": null,
      "metadata": {
        "application/vnd.databricks.v1+cell": {
          "cellMetadata": {
            "byteLimit": 2048000,
            "rowLimit": 10000
          },
          "inputWidgets": {},
          "nuid": "6a4334de-0272-4756-b99f-0565846bf65c",
          "showTitle": false,
          "title": ""
        },
        "colab": {
          "base_uri": "https://localhost:8080/"
        },
        "id": "IfM9kWd3vfE4",
        "outputId": "593b6eb6-f521-4566-bf49-af5b49a5debc"
      },
      "outputs": [
        {
          "output_type": "stream",
          "name": "stdout",
          "text": [
            "+----------------+------------------+--------------+----------------+------------------+\n",
            "|start_station_id|total_trips_starts|end_station_id|total_trips_ends|             ratio|\n",
            "+----------------+------------------+--------------+----------------+------------------+\n",
            "|             268|                 1|           268|               2|               2.0|\n",
            "|             157|               617|           157|            1021|1.6547811993517019|\n",
            "|             151|               149|           151|             234| 1.570469798657718|\n",
            "|             247|               739|           247|            1118|1.5128552097428958|\n",
            "|             339|                 2|           339|               3|               1.5|\n",
            "|             226|                41|           226|              61|1.4878048780487805|\n",
            "|             245|              1667|           245|            2342|1.4049190161967606|\n",
            "|             263|                35|           263|              49|               1.4|\n",
            "|              30|             12546|            30|           17378|1.3851426749561613|\n",
            "|             131|                47|           131|              63|1.3404255319148937|\n",
            "|             259|               185|           259|             246|1.3297297297297297|\n",
            "|             224|                54|           224|              71|1.3148148148148149|\n",
            "|             337|                37|           337|              48|1.2972972972972974|\n",
            "|             112|              2147|           112|            2783| 1.296227293898463|\n",
            "|             102|              1071|           102|            1375|1.2838468720821663|\n",
            "|             222|               194|           222|             248|1.2783505154639174|\n",
            "|             300|                29|           300|              37|1.2758620689655173|\n",
            "|             215|               231|           215|             293|1.2683982683982684|\n",
            "|             293|                15|           293|              19|1.2666666666666666|\n",
            "|             202|               757|           202|             953|1.2589167767503302|\n",
            "+----------------+------------------+--------------+----------------+------------------+\n",
            "only showing top 20 rows\n",
            "\n"
          ]
        }
      ],
      "source": [
        "merged_station_total = merged_station_total.withColumn('ratio', (col('total_trips_ends') / col('total_trips_starts'))).orderBy('ratio', ascending=False)\n",
        "merged_station_total.show()"
      ]
    },
    {
      "cell_type": "code",
      "execution_count": null,
      "metadata": {
        "application/vnd.databricks.v1+cell": {
          "cellMetadata": {},
          "inputWidgets": {},
          "nuid": "ffde6798-3a0a-480c-be33-3fd24a9b9106",
          "showTitle": false,
          "title": ""
        },
        "id": "EKlwB263vfE6"
      },
      "outputs": [],
      "source": [
        "merged_station_total.write.csv('merged_station2.csv')"
      ]
    },
    {
      "cell_type": "code",
      "source": [
        "trip_season.write.csv('seasons.csv')"
      ],
      "metadata": {
        "id": "aGDdbWa7yO97"
      },
      "execution_count": null,
      "outputs": []
    },
    {
      "cell_type": "code",
      "source": [
        "merged_stations_times = station_time_counts.join(merged_station_total, station_time_counts['start_station_id'] == merged_station_total['start_station_id'], 'outer')\n",
        "merged_stations_times = merged_stations_times.orderBy('ratio', ascending=False)\n"
      ],
      "metadata": {
        "id": "j5hYozg10slS"
      },
      "execution_count": null,
      "outputs": []
    },
    {
      "cell_type": "code",
      "source": [
        "merged_stations_times.show(30)"
      ],
      "metadata": {
        "colab": {
          "base_uri": "https://localhost:8080/"
        },
        "id": "SoKNo-8-2RyT",
        "outputId": "59b6ef08-07a5-4b67-e965-25b9bd149e3a"
      },
      "execution_count": null,
      "outputs": [
        {
          "output_type": "stream",
          "name": "stdout",
          "text": [
            "+----------------+-------------+---------------+-------------+----------------+------------------+--------------+----------------+------------------+\n",
            "|start_station_id|Morning_count|Afternoon_count|Evening_count|start_station_id|total_trips_starts|end_station_id|total_trips_ends|             ratio|\n",
            "+----------------+-------------+---------------+-------------+----------------+------------------+--------------+----------------+------------------+\n",
            "|             268|            1|              0|            0|             268|                 1|           268|               2|               2.0|\n",
            "|             157|          245|            242|          120|             157|               617|           157|            1021|1.6547811993517019|\n",
            "|             151|           63|             53|           33|             151|               149|           151|             234| 1.570469798657718|\n",
            "|             247|          154|            311|          254|             247|               739|           247|            1118|1.5128552097428958|\n",
            "|             339|            1|              1|            0|             339|                 2|           339|               3|               1.5|\n",
            "|             226|           14|             18|            8|             226|                41|           226|              61|1.4878048780487805|\n",
            "|             245|          429|            576|          619|             245|              1667|           245|            2342|1.4049190161967606|\n",
            "|             263|           21|             11|            3|             263|                35|           263|              49|               1.4|\n",
            "|              30|         8194|           1973|         2311|              30|             12546|            30|           17378|1.3851426749561613|\n",
            "|             131|           19|             13|           12|             131|                47|           131|              63|1.3404255319148937|\n",
            "|             259|           68|             93|           24|             259|               185|           259|             246|1.3297297297297297|\n",
            "|             224|           17|             20|           16|             224|                54|           224|              71|1.3148148148148149|\n",
            "|             337|            8|             14|           15|             337|                37|           337|              48|1.2972972972972974|\n",
            "|             112|          704|            789|          640|             112|              2147|           112|            2783| 1.296227293898463|\n",
            "|             102|          348|            402|          307|             102|              1071|           102|            1375|1.2838468720821663|\n",
            "|             222|           92|             57|           42|             222|               194|           222|             248|1.2783505154639174|\n",
            "|             300|           10|              9|           10|             300|                29|           300|              37|1.2758620689655173|\n",
            "|             215|          137|             54|           34|             215|               231|           215|             293|1.2683982683982684|\n",
            "|             293|            2|              5|            8|             293|                15|           293|              19|1.2666666666666666|\n",
            "|             202|          255|            301|          193|             202|               757|           202|             953|1.2589167767503302|\n",
            "|             237|            6|              8|           10|             237|                24|           237|              30|              1.25|\n",
            "|             270|           33|             39|           21|             270|                94|           270|             117|1.2446808510638299|\n",
            "|             193|          684|            436|          299|             193|              1441|           193|            1783|1.2373351839000695|\n",
            "|             246|          184|            269|          235|             246|               698|           246|             862|1.2349570200573066|\n",
            "|             156|          111|             94|           48|             156|               253|           156|             309|1.2213438735177866|\n",
            "|             274|          121|            104|           52|             274|               279|           274|             340|1.2186379928315412|\n",
            "|             201|          259|            598|          651|             201|              1520|           201|            1848|1.2157894736842105|\n",
            "|             266|           93|             60|           35|             266|               190|           266|             231|1.2157894736842105|\n",
            "|             209|          155|             79|           44|             209|               282|           209|             342|1.2127659574468086|\n",
            "|             310|          172|            325|          409|             310|              1031|           310|            1250|1.2124151309408342|\n",
            "+----------------+-------------+---------------+-------------+----------------+------------------+--------------+----------------+------------------+\n",
            "only showing top 30 rows\n",
            "\n"
          ]
        }
      ]
    },
    {
      "cell_type": "code",
      "source": [
        "trips_starting = bike_data.groupBy(\"start_station_name\").agg(count(\"*\").alias(\"start_counting\"))\n",
        "trips_ending = bike_data.groupBy(\"end_station_name\").agg(count(\"*\").alias(\"end_counting\"))\n",
        "\n"
      ],
      "metadata": {
        "id": "X4myTt1j23i4"
      },
      "execution_count": null,
      "outputs": []
    },
    {
      "cell_type": "code",
      "source": [
        "# Calculate net change in bike availability\n",
        "station_data = trips_starting.join(trips_ending, trips_starting['start_station_name'] == trips_ending['end_station_name'], \"outer\").fillna(0)\n",
        "\n"
      ],
      "metadata": {
        "id": "AVTZqh6Favsp"
      },
      "execution_count": null,
      "outputs": []
    },
    {
      "cell_type": "code",
      "source": [
        "station_data.show()"
      ],
      "metadata": {
        "colab": {
          "base_uri": "https://localhost:8080/"
        },
        "id": "4A0kAae_ctmh",
        "outputId": "08501784-630d-40b5-aba3-d4d3204550d6"
      },
      "execution_count": null,
      "outputs": [
        {
          "output_type": "stream",
          "name": "stdout",
          "text": [
            "+--------------------+-----------+--------------------+---------+\n",
            "|  start_station_name|start_count|    end_station_name|end_count|\n",
            "+--------------------+-----------+--------------------+---------+\n",
            "|10th Ave at E 15t...|        194|10th Ave at E 15t...|      248|\n",
            "|10th St at Fallon St|       1520|10th St at Fallon St|     1848|\n",
            "|11th St at Bryant St|       1760|11th St at Bryant St|     2014|\n",
            "|11th St at Natoma St|       2038|11th St at Natoma St|     2184|\n",
            "|  12th St at 4th Ave|        993|  12th St at 4th Ave|     1080|\n",
            "|  12th St at 6th Ave|        241|  12th St at 6th Ave|      283|\n",
            "|13th St at Frankl...|         61|13th St at Frankl...|       48|\n",
            "|14th St at Filber...|        105|14th St at Filber...|      111|\n",
            "|14th St at Mandel...|        695|14th St at Mandel...|      661|\n",
            "|14th St at Missio...|       2277|14th St at Missio...|     2157|\n",
            "|16th St Mission BART|        925|16th St Mission BART|      991|\n",
            "|16th St Mission B...|       1436|16th St Mission B...|     1688|\n",
            "|16th St at Prospe...|       1481|16th St at Prospe...|      889|\n",
            "|17th & Folsom Str...|       1021|17th & Folsom Str...|     1123|\n",
            "|17th St at Dolore...|       1607|17th St at Dolore...|     1355|\n",
            "|17th St at Valenc...|       3053|17th St at Valenc...|     3214|\n",
            "|   18th St at Noe St|       2266|   18th St at Noe St|     2330|\n",
            "|19th St at Florid...|       1569|19th St at Florid...|     1608|\n",
            "|19th St at Missio...|       1614|19th St at Missio...|     1745|\n",
            "|19th Street BART ...|       5558|19th Street BART ...|     5505|\n",
            "+--------------------+-----------+--------------------+---------+\n",
            "only showing top 20 rows\n",
            "\n"
          ]
        }
      ]
    }
  ],
  "metadata": {
    "application/vnd.databricks.v1+notebook": {
      "dashboards": [],
      "language": "python",
      "notebookMetadata": {
        "pythonIndentUnit": 4
      },
      "notebookName": "fordgobike",
      "widgets": {}
    },
    "colab": {
      "provenance": []
    },
    "language_info": {
      "name": "python"
    },
    "kernelspec": {
      "name": "python3",
      "display_name": "Python 3"
    }
  },
  "nbformat": 4,
  "nbformat_minor": 0
}